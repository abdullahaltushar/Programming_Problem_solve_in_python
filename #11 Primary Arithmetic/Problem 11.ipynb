{
 "cells": [
  {
   "cell_type": "code",
   "execution_count": 14,
   "id": "49c66ed0",
   "metadata": {},
   "outputs": [
    {
     "name": "stdout",
     "output_type": "stream",
     "text": [
      "456\n",
      "789\n",
      "3 carry operation.\n"
     ]
    }
   ],
   "source": [
    "def count_value(a,b):\n",
    "    len_a=len(a)\n",
    "    len_b=len(b)\n",
    "    carry=0\n",
    "    count=0\n",
    "    while(len_a!= 0 or len_b!= 0):\n",
    "        if(len_a>0):\n",
    "            x=int(a[len_a-1])+int('0')\n",
    "            len_a=len_a-1\n",
    "        if(len_a>0):\n",
    "            y=int(b[len_b-1])+int('0')\n",
    "            len_b=len_b-1\n",
    "        sum=x+y+carry\n",
    "        if(sum>=10):\n",
    "            carry=1\n",
    "            count=count+1\n",
    "            \n",
    "        else:\n",
    "            carry=0 \n",
    "        if(len_a<=0 or len_b<=0):\n",
    "            break\n",
    "    \n",
    "    return count\n",
    "i=input()\n",
    "j=input()   \n",
    "count=count_value(i,j)\n",
    "if(count==0):\n",
    "    print('No carry operation')\n",
    "elif(count==1):\n",
    "    print('1 carry operation.')\n",
    "else:\n",
    "    print(f'{count} carry operation.')"
   ]
  },
  {
   "cell_type": "code",
   "execution_count": null,
   "id": "8c25fa5e",
   "metadata": {},
   "outputs": [],
   "source": []
  }
 ],
 "metadata": {
  "kernelspec": {
   "display_name": "Python 3 (ipykernel)",
   "language": "python",
   "name": "python3"
  },
  "language_info": {
   "codemirror_mode": {
    "name": "ipython",
    "version": 3
   },
   "file_extension": ".py",
   "mimetype": "text/x-python",
   "name": "python",
   "nbconvert_exporter": "python",
   "pygments_lexer": "ipython3",
   "version": "3.9.7"
  }
 },
 "nbformat": 4,
 "nbformat_minor": 5
}
