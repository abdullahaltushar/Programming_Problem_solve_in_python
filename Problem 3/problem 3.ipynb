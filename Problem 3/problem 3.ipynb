{
 "cells": [
  {
   "cell_type": "code",
   "execution_count": 5,
   "id": "d0bea372",
   "metadata": {},
   "outputs": [
    {
     "name": "stdout",
     "output_type": "stream",
     "text": [
      "3\n",
      "Enter two values: 10 20\n",
      "<\n",
      "Enter two values: 20 10\n",
      ">\n",
      "Enter two values: 10 10\n",
      "=\n"
     ]
    }
   ],
   "source": [
    "i=int(input())\n",
    "j=1\n",
    "while(i>=j):\n",
    "    x, y = input(\"Enter two values: \").split()\n",
    "    \n",
    "    if(x>y):\n",
    "        print(\">\")\n",
    "    elif(x<y):\n",
    "        print(\"<\")\n",
    "    else:\n",
    "        print(\"=\")\n",
    "    j=j+1\n",
    "     "
   ]
  },
  {
   "cell_type": "code",
   "execution_count": null,
   "id": "9a0fe861",
   "metadata": {},
   "outputs": [],
   "source": []
  },
  {
   "cell_type": "code",
   "execution_count": null,
   "id": "84c8eaee",
   "metadata": {},
   "outputs": [],
   "source": []
  }
 ],
 "metadata": {
  "kernelspec": {
   "display_name": "Python 3 (ipykernel)",
   "language": "python",
   "name": "python3"
  },
  "language_info": {
   "codemirror_mode": {
    "name": "ipython",
    "version": 3
   },
   "file_extension": ".py",
   "mimetype": "text/x-python",
   "name": "python",
   "nbconvert_exporter": "python",
   "pygments_lexer": "ipython3",
   "version": "3.9.7"
  }
 },
 "nbformat": 4,
 "nbformat_minor": 5
}
