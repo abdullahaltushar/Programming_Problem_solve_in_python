{
 "cells": [
  {
   "cell_type": "code",
   "execution_count": null,
   "id": "b94eee39",
   "metadata": {},
   "outputs": [
    {
     "name": "stdout",
     "output_type": "stream",
     "text": [
      "Enter value of i: 1\n",
      "Enter value of j: 10\n",
      "1 10\n",
      "9\n"
     ]
    }
   ],
   "source": [
    "import sys\n",
    "import keyboard\n",
    "while(True):\n",
    "    i= int(input('Enter value of i: ')) \n",
    "    j= int(input('Enter value of j: '))\n",
    "    if(i==0):\n",
    "        break\n",
    "    if(j<i):\n",
    "        temp = i\n",
    "        i = j\n",
    "        j = temp\n",
    "        swap=1\n",
    "    else:\n",
    "        swap=0\n",
    "    result=j-i\n",
    "    if(swap==0):\n",
    "        print('{} {}'.format(i,j))\n",
    "    else:\n",
    "        print('{} {}'.format(j,i))\n",
    "    print('{}'.format(result))    "
   ]
  },
  {
   "cell_type": "code",
   "execution_count": null,
   "id": "54dd9621",
   "metadata": {},
   "outputs": [],
   "source": []
  },
  {
   "cell_type": "code",
   "execution_count": null,
   "id": "2245e674",
   "metadata": {},
   "outputs": [],
   "source": []
  },
  {
   "cell_type": "code",
   "execution_count": null,
   "id": "96bee8ef",
   "metadata": {},
   "outputs": [],
   "source": []
  }
 ],
 "metadata": {
  "kernelspec": {
   "display_name": "Python 3 (ipykernel)",
   "language": "python",
   "name": "python3"
  },
  "language_info": {
   "codemirror_mode": {
    "name": "ipython",
    "version": 3
   },
   "file_extension": ".py",
   "mimetype": "text/x-python",
   "name": "python",
   "nbconvert_exporter": "python",
   "pygments_lexer": "ipython3",
   "version": "3.9.7"
  }
 },
 "nbformat": 4,
 "nbformat_minor": 5
}
