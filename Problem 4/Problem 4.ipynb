{
 "cells": [
  {
   "cell_type": "code",
   "execution_count": 21,
   "id": "c6dde3e8",
   "metadata": {},
   "outputs": [
    {
     "name": "stdout",
     "output_type": "stream",
     "text": [
      "3\n",
      "1000 2000 3000\n",
      "2000\n",
      "3000 2500 1500\n",
      "2500\n",
      "1500 1200 1800\n",
      "1500\n"
     ]
    }
   ],
   "source": [
    "i=int(input())\n",
    "j=1\n",
    "while(i>=j):\n",
    "    x, y, z = input(\"\").split()\n",
    "    if(((int(x)>=1000)&(int(x)<10000))&((int(y)>=1000)&(int(y)<10000))&((int(z)>=1000)&(int(z)<10000))):\n",
    "        if((x>y) & (x<z)):\n",
    "            print(x)\n",
    "        elif((x>z) & (x<y)):\n",
    "            print(x)\n",
    "        elif((y>x) & (y<z)):\n",
    "            print(y)\n",
    "        elif((z>x) & (z<y)):\n",
    "            print(z)\n",
    "        elif((z>y) & (z<x)):\n",
    "            print(z)\n",
    "        else:\n",
    "            print(y)\n",
    "    j=j+1\n",
    "     "
   ]
  },
  {
   "cell_type": "code",
   "execution_count": null,
   "id": "06181969",
   "metadata": {},
   "outputs": [],
   "source": []
  },
  {
   "cell_type": "code",
   "execution_count": null,
   "id": "a4396c29",
   "metadata": {},
   "outputs": [],
   "source": []
  }
 ],
 "metadata": {
  "kernelspec": {
   "display_name": "Python 3 (ipykernel)",
   "language": "python",
   "name": "python3"
  },
  "language_info": {
   "codemirror_mode": {
    "name": "ipython",
    "version": 3
   },
   "file_extension": ".py",
   "mimetype": "text/x-python",
   "name": "python",
   "nbconvert_exporter": "python",
   "pygments_lexer": "ipython3",
   "version": "3.9.7"
  }
 },
 "nbformat": 4,
 "nbformat_minor": 5
}
