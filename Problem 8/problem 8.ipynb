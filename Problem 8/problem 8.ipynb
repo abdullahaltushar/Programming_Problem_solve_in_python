{
 "cells": [
  {
   "cell_type": "code",
   "execution_count": 4,
   "id": "bb02e69c",
   "metadata": {},
   "outputs": [
    {
     "name": "stdout",
     "output_type": "stream",
     "text": [
      "1\n",
      "5\n",
      "50\n",
      "50\n",
      "70\n",
      "80\n",
      "100\n",
      "40.000\n"
     ]
    }
   ],
   "source": [
    "t=int(input())\n",
    "while (t>0):\n",
    "    for j in range(t):\n",
    "            n= int(input())\n",
    "            value={}\n",
    "            total=0\n",
    "            for i in range(n):\n",
    "                value[i]= int(input())\n",
    "                total=total+value[i]\n",
    "            avg=total/n\n",
    "            count=0;\n",
    "            for i in range(n):\n",
    "                if(value[i]>avg):\n",
    "                    count=count+1\n",
    "\n",
    "            result=(100*count)/n\n",
    "            print(\"{:.3f}\".format(result))\n",
    "    t=t-1"
   ]
  },
  {
   "cell_type": "code",
   "execution_count": null,
   "id": "51233c9d",
   "metadata": {},
   "outputs": [],
   "source": []
  },
  {
   "cell_type": "code",
   "execution_count": null,
   "id": "5630a855",
   "metadata": {},
   "outputs": [],
   "source": []
  }
 ],
 "metadata": {
  "kernelspec": {
   "display_name": "Python 3 (ipykernel)",
   "language": "python",
   "name": "python3"
  },
  "language_info": {
   "codemirror_mode": {
    "name": "ipython",
    "version": 3
   },
   "file_extension": ".py",
   "mimetype": "text/x-python",
   "name": "python",
   "nbconvert_exporter": "python",
   "pygments_lexer": "ipython3",
   "version": "3.9.7"
  }
 },
 "nbformat": 4,
 "nbformat_minor": 5
}
