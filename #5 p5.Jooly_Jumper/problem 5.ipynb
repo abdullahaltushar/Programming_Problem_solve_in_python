{
 "cells": [
  {
   "cell_type": "code",
   "execution_count": 1,
   "id": "d52fb225",
   "metadata": {},
   "outputs": [],
   "source": [
    "def distance(a, b):\n",
    "    if(a>b):\n",
    "        return a-b\n",
    "    else:\n",
    "        return b-a"
   ]
  },
  {
   "cell_type": "code",
   "execution_count": 2,
   "id": "a3258df2",
   "metadata": {},
   "outputs": [
    {
     "name": "stdout",
     "output_type": "stream",
     "text": [
      "4 1 4 2 3\n",
      "Jolly\n"
     ]
    }
   ],
   "source": [
    "l = input().split()\n",
    "\n",
    "n = len(l)\n",
    "m = n - 1\n",
    "for i in range(0, n):\n",
    "    l[i] = int(l[i])\n",
    "    \n",
    "for i in range(0, n-1):\n",
    "    if (distance(l[i], l[i+1]) <= m):\n",
    "        continue\n",
    "    else:\n",
    "        print(\"Not Jolly\")\n",
    "        break\n",
    "else:\n",
    "    print(\"Jolly\")\n",
    "  "
   ]
  },
  {
   "cell_type": "code",
   "execution_count": null,
   "id": "16f75d5b",
   "metadata": {},
   "outputs": [],
   "source": []
  }
 ],
 "metadata": {
  "kernelspec": {
   "display_name": "Python 3 (ipykernel)",
   "language": "python",
   "name": "python3"
  },
  "language_info": {
   "codemirror_mode": {
    "name": "ipython",
    "version": 3
   },
   "file_extension": ".py",
   "mimetype": "text/x-python",
   "name": "python",
   "nbconvert_exporter": "python",
   "pygments_lexer": "ipython3",
   "version": "3.9.7"
  }
 },
 "nbformat": 4,
 "nbformat_minor": 5
}
