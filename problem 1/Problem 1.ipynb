{
 "cells": [
  {
   "cell_type": "code",
   "execution_count": 1,
   "id": "1a9ceef6",
   "metadata": {},
   "outputs": [],
   "source": [
    "def solution(n):  \n",
    "    step=1\n",
    "    while(n!=1):\n",
    "        if( n%2==0):\n",
    "            n/=2     \n",
    "        else:\n",
    "            n=(n*3)+1\n",
    "        step=step+1\n",
    "    return step"
   ]
  },
  {
   "cell_type": "code",
   "execution_count": 2,
   "id": "d404bb28",
   "metadata": {},
   "outputs": [
    {
     "name": "stdout",
     "output_type": "stream",
     "text": [
      "Enter value of i: 1\n",
      "Enter value of j: 10\n",
      "1 10 20\n",
      "Enter value of i: 100\n",
      "Enter value of j: 200\n",
      "100 200 125\n",
      "Enter value of i: 0\n",
      "Enter value of j: 0\n"
     ]
    }
   ],
   "source": [
    "while(True):\n",
    "    i= int(input('Enter value of i: ')) \n",
    "    j= int(input('Enter value of j: '))\n",
    "    if(i==0):\n",
    "        break\n",
    "    data1=solution(i)\n",
    "    if(j<i):\n",
    "        temp = i\n",
    "        i = j\n",
    "        j = temp\n",
    "        swap=1\n",
    "    else:\n",
    "        swap=0\n",
    "    \n",
    "    for k in range(i,j):\n",
    "        data2=solution(k)\n",
    "        if(data2>data1):\n",
    "            data1=data2  \n",
    "        if(k>=j):\n",
    "            break\n",
    "            \n",
    "    if(swap==0):\n",
    "        print('{} {} {}'.format(i,j,data1))\n",
    "    else:\n",
    "        print('{} {} {}'.format(j,i,data1))"
   ]
  },
  {
   "cell_type": "code",
   "execution_count": null,
   "id": "39ee8ea1",
   "metadata": {},
   "outputs": [],
   "source": []
  },
  {
   "cell_type": "code",
   "execution_count": null,
   "id": "1bc5471f",
   "metadata": {},
   "outputs": [],
   "source": []
  }
 ],
 "metadata": {
  "kernelspec": {
   "display_name": "Python 3 (ipykernel)",
   "language": "python",
   "name": "python3"
  },
  "language_info": {
   "codemirror_mode": {
    "name": "ipython",
    "version": 3
   },
   "file_extension": ".py",
   "mimetype": "text/x-python",
   "name": "python",
   "nbconvert_exporter": "python",
   "pygments_lexer": "ipython3",
   "version": "3.9.7"
  }
 },
 "nbformat": 4,
 "nbformat_minor": 5
}
