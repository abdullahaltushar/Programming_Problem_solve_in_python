{
 "cells": [
  {
   "cell_type": "code",
   "execution_count": 6,
   "id": "9c68bdad",
   "metadata": {},
   "outputs": [
    {
     "name": "stdout",
     "output_type": "stream",
     "text": [
      "2\n",
      "1\n",
      "5\n",
      "output:  9\n",
      "3\n",
      "5\n",
      "output:  8\n"
     ]
    }
   ],
   "source": [
    "t=int(input())\n",
    "while (t>0):\n",
    "    result=0\n",
    "    x=int(input())\n",
    "    y=int(input())\n",
    "    for i in range(x,y+1):\n",
    "        if(i%2==1):\n",
    "            result=result+i\n",
    "    print(\"output: \",int(result));\n",
    "    t=t-1"
   ]
  },
  {
   "cell_type": "code",
   "execution_count": null,
   "id": "225187fc",
   "metadata": {},
   "outputs": [],
   "source": []
  },
  {
   "cell_type": "code",
   "execution_count": null,
   "id": "48b675b2",
   "metadata": {},
   "outputs": [],
   "source": []
  }
 ],
 "metadata": {
  "kernelspec": {
   "display_name": "Python 3 (ipykernel)",
   "language": "python",
   "name": "python3"
  },
  "language_info": {
   "codemirror_mode": {
    "name": "ipython",
    "version": 3
   },
   "file_extension": ".py",
   "mimetype": "text/x-python",
   "name": "python",
   "nbconvert_exporter": "python",
   "pygments_lexer": "ipython3",
   "version": "3.9.7"
  }
 },
 "nbformat": 4,
 "nbformat_minor": 5
}
