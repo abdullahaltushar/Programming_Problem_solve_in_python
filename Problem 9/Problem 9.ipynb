{
 "cells": [
  {
   "cell_type": "code",
   "execution_count": 19,
   "id": "7a27607a",
   "metadata": {},
   "outputs": [
    {
     "name": "stdout",
     "output_type": "stream",
     "text": [
      "1\n",
      "2\n",
      "2 4 5\n",
      "3 4 5\n",
      "25\n"
     ]
    }
   ],
   "source": [
    "t=int(input())\n",
    "\n",
    "while (t>=1):\n",
    "    for i in range(t):\n",
    "            n= int(input())\n",
    "            sum=0\n",
    "            for j in range(n):\n",
    "                a,b,c=input().split()\n",
    "                a= int(a)\n",
    "                c=int(c)\n",
    "                f=a*c\n",
    "                sum=sum+f\n",
    "            print(sum);    \n",
    "    t=t-1"
   ]
  }
 ],
 "metadata": {
  "kernelspec": {
   "display_name": "Python 3 (ipykernel)",
   "language": "python",
   "name": "python3"
  },
  "language_info": {
   "codemirror_mode": {
    "name": "ipython",
    "version": 3
   },
   "file_extension": ".py",
   "mimetype": "text/x-python",
   "name": "python",
   "nbconvert_exporter": "python",
   "pygments_lexer": "ipython3",
   "version": "3.9.7"
  }
 },
 "nbformat": 4,
 "nbformat_minor": 5
}
