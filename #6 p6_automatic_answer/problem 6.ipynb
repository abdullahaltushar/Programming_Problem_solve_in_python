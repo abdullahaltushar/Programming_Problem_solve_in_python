{
 "cells": [
  {
   "cell_type": "code",
   "execution_count": 17,
   "id": "0a767952",
   "metadata": {},
   "outputs": [
    {
     "name": "stdout",
     "output_type": "stream",
     "text": [
      "2\n",
      "637\n",
      "1.7000000000007276\n",
      "-120\n",
      "3.799999999999997\n"
     ]
    }
   ],
   "source": [
    "t=int(input())\n",
    "while (t>0):\n",
    "    n=int(input())\n",
    "    print(abs(315 * n + 36962) / 10 % 10);\n",
    "    t=t-1"
   ]
  },
  {
   "cell_type": "code",
   "execution_count": null,
   "id": "bd7e064b",
   "metadata": {},
   "outputs": [
    {
     "name": "stdout",
     "output_type": "stream",
     "text": [
      "2\n",
      "637\n",
      "1\n",
      "-120\n",
      "3\n"
     ]
    }
   ],
   "source": [
    "t=int(input())\n",
    "while (t>0):\n",
    "    for i in range(t):\n",
    "        n=int(input())\n",
    "        n=((((((n*567)/9)+7492)*235)/47)-498);\n",
    "        if(n<0):\n",
    "            n=n*-1;\n",
    "        n=(n/10)%10;\n",
    "        if(t<0):\n",
    "            t*-1;\n",
    "        print(int(n));"
   ]
  },
  {
   "cell_type": "code",
   "execution_count": null,
   "id": "65dab3fa",
   "metadata": {},
   "outputs": [],
   "source": []
  }
 ],
 "metadata": {
  "kernelspec": {
   "display_name": "Python 3 (ipykernel)",
   "language": "python",
   "name": "python3"
  },
  "language_info": {
   "codemirror_mode": {
    "name": "ipython",
    "version": 3
   },
   "file_extension": ".py",
   "mimetype": "text/x-python",
   "name": "python",
   "nbconvert_exporter": "python",
   "pygments_lexer": "ipython3",
   "version": "3.9.7"
  }
 },
 "nbformat": 4,
 "nbformat_minor": 5
}
